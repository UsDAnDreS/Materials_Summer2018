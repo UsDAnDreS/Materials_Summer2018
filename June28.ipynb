{
 "cells": [
  {
   "cell_type": "code",
   "execution_count": 6,
   "metadata": {},
   "outputs": [
    {
     "data": {
      "text/html": [
       "TRUE"
      ],
      "text/latex": [
       "TRUE"
      ],
      "text/markdown": [
       "TRUE"
      ],
      "text/plain": [
       "[1] TRUE"
      ]
     },
     "metadata": {},
     "output_type": "display_data"
    },
    {
     "data": {
      "text/html": [
       "TRUE"
      ],
      "text/latex": [
       "TRUE"
      ],
      "text/markdown": [
       "TRUE"
      ],
      "text/plain": [
       "[1] TRUE"
      ]
     },
     "metadata": {},
     "output_type": "display_data"
    },
    {
     "name": "stderr",
     "output_type": "stream",
     "text": [
      "Warning message in evalq(as.numeric(median_annual_wage_2017), <environment>):\n",
      "“NAs introduced by coercion”"
     ]
    }
   ],
   "source": [
    "# Load in libraries\n",
    "library(dplyr)\n",
    "library(tabulizer)\n",
    "library(rlist)\n",
    "library(readxl)\n",
    "\n",
    "\n",
    "#############################################################################################\n",
    "# Download and parse data about probability of computerisation\n",
    "#############################################################################################\n",
    "\n",
    "# Download pdf file\n",
    "urlfile=\"https://www.oxfordmartin.ox.ac.uk/downloads/academic/The_Future_of_Employment.pdf\"\n",
    "file=\"The_Future_of_Employment.pdf\"\n",
    "if (!file.exists(file)) download.file(urlfile, destfile = file, mode = 'wb')\n",
    "\n",
    "# Extract tables using tabulizer (it takes some time)\n",
    "out <- extract_tables(file, encoding=\"UTF-8\")\n",
    "\n",
    "# We are not interested in first two tables\n",
    "list.remove(out, c(1:2)) -> table\n",
    "\n",
    "# Parse table\n",
    "prob_comput_df=data.frame()\n",
    "\n",
    "for (i in 1:length(table))\n",
    "{\n",
    "  # We keep just SOC Code, rank and probability of computerisation\n",
    "  # We also remove forst to lines of each element of table since they are non interesting\n",
    "  table[[i]][-c(1,2),c(1,2,4)] %>% \n",
    "    as.data.frame(stringsAsFactors = FALSE) %>% \n",
    "    rbind(prob_comput_df) -> prob_comput_df\n",
    "}\n",
    "\n",
    "colnames(prob_comput_df) = c(\"rank\", \"probability\", \"soc\")\n",
    "\n",
    "# A bit of data cleaning\n",
    "prob_comput_df %>% \n",
    "  mutate(rank=gsub(\"\\\\.\",\"\", rank) %>% as.numeric()) %>% \n",
    "  na.omit() -> prob_comput_df\n",
    "\n",
    "file.remove(file)\n",
    "\n",
    "#############################################################################################\n",
    "# Download job satistics\n",
    "#############################################################################################\n",
    "# Download xlsx file\n",
    "urlfile <- \"https://www.bls.gov/emp/ind-occ-matrix/occupation.xlsx\"\n",
    "file <- \"occupation.xlsx\"\n",
    "if (!file.exists(file)) download.file(urlfile, destfile = file, mode = 'wb')\n",
    "job_stats_df <- read_excel(file, \n",
    "                           sheet=\"Table 1.7\", \n",
    "                           skip=3,\n",
    "                           col_names = c(\"job_title\",\n",
    "                                         \"soc\",\n",
    "                                         \"occupation_type\",\n",
    "                                         \"employment_2016\",\n",
    "                                         \"employment_2026\",\n",
    "                                         \"employment_change_2016_26_nu\",\n",
    "                                         \"employment_change_2016_26_pe\",\n",
    "                                         \"self_employed_2016_pe\",\n",
    "                                         \"occupational_openings_2016_26_av\",\n",
    "                                         \"median_annual_wage_2017\",\n",
    "                                         \"typical_education_entry\",\n",
    "                                         \"work_experience_related_occ\",\t\n",
    "                                         \"typical_training_needed\"))\n",
    "\n",
    "file.remove(file)\n",
    "\n",
    "#############################################################################################\n",
    "# Join data frames and do the plot\n",
    "#############################################################################################\n",
    "results = prob_comput_df %>% \n",
    "  inner_join(job_stats_df, by = \"soc\") %>% \n",
    "  select(job_title, \n",
    "         probability, \n",
    "         employment_2016, \n",
    "         median_annual_wage_2017, \n",
    "         typical_education_entry) %>% \n",
    "  mutate(probability=as.numeric(probability),\n",
    "         median_annual_wage_2017=as.numeric(median_annual_wage_2017),\n",
    "         typical_education_entry=iconv(typical_education_entry, \"latin1\", \"ASCII\")) %>% \n",
    "  na.omit()"
   ]
  },
  {
   "cell_type": "code",
   "execution_count": 11,
   "metadata": {},
   "outputs": [
    {
     "data": {
      "text/html": [
       "<iframe src=\"demox.html\", width = 900, height = 500 ></iframe>"
      ]
     },
     "metadata": {},
     "output_type": "display_data"
    }
   ],
   "source": [
    "library(highcharter)\n",
    "library(htmlwidgets)\n",
    "library(IRdisplay)\n",
    "\n",
    "x=hchart(results, \n",
    "       \"scatter\", \n",
    "       hcaes(x = probability*100, \n",
    "             y = median_annual_wage_2017, \n",
    "             group=typical_education_entry, \n",
    "             size=employment_2016)) %>% \n",
    "  hc_title(text = \"How Much Money Should Machines Earn?\") %>%\n",
    "  hc_subtitle(text = \"Probability of Computerisation and Wages by Job\") %>% \n",
    "  hc_credits(enabled = TRUE, text = \"Source: Oxford Martin School and US Department of Labor\") %>% \n",
    "  hc_xAxis(title = list(text = \"Probability of Computerisation\"), labels = list(format = \"{value}%\")) %>% \n",
    "  hc_yAxis(title = list(text = \"Median Annual Wage 2017\"), labels = list(format = \"{value}$\")) %>% \n",
    "  hc_plotOptions(bubble = list(minSize = 3, maxSize = 35)) %>% \n",
    "  hc_tooltip(formatter = JS(\"function(){\n",
    "                            return ('<b>'+ this.point.job_title + '</b><br>'+\n",
    "                            'Probability of computerisation: '+ Highcharts.numberFormat(this.x, 0)+'%' + \n",
    "                            '<br>Median annual wage 2017 ($): '+ Highcharts.numberFormat(this.y, 0) + \n",
    "                            '<br>Employment 2016 (000s): '+ Highcharts.numberFormat(this.point.size, 0) )}\")) %>% \n",
    "  hc_chart(zoomType = \"xy\") %>%\n",
    "  hc_exporting(enabled = TRUE)\n",
    "\n",
    "saveWidget(x, 'demox.html', selfcontained = FALSE)\n",
    "display_html('<iframe src=\"demox.html\", width = 900, height = 500 ></iframe>')"
   ]
  },
  {
   "cell_type": "code",
   "execution_count": 10,
   "metadata": {},
   "outputs": [
    {
     "data": {
      "text/html": [
       "<iframe src=\"demox.html\", width = 900, height = 500 ></iframe>"
      ]
     },
     "metadata": {},
     "output_type": "display_data"
    }
   ],
   "source": [
    "\n",
    "\n",
    "x=hchart(mpg, \"scatter\", hcaes(x = displ, y = hwy, group = class)) %>%\n",
    "hc_size(width=800, height = 400)\n",
    "saveWidget(x, 'demox.html', selfcontained = FALSE)\n",
    "display_html('<iframe src=\"demox.html\", width = 900, height = 500 ></iframe>')"
   ]
  },
  {
   "cell_type": "code",
   "execution_count": null,
   "metadata": {},
   "outputs": [],
   "source": []
  }
 ],
 "metadata": {
  "kernelspec": {
   "display_name": "R",
   "language": "R",
   "name": "ir"
  },
  "language_info": {
   "codemirror_mode": "r",
   "file_extension": ".r",
   "mimetype": "text/x-r-source",
   "name": "R",
   "pygments_lexer": "r",
   "version": "3.5.0"
  }
 },
 "nbformat": 4,
 "nbformat_minor": 2
}
