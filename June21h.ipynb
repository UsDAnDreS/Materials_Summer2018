{
 "cells": [
  {
   "cell_type": "markdown",
   "metadata": {},
   "source": [
    "# DSI Summer Workshops Series\n",
    "\n",
    "## June 21, 2018\n",
    "\n",
    "Peggy Lindner<br>\n",
    "Center for Advanced Computing & Data Science (CACDS)<br>\n",
    "Data Science Institute (DSI)<br>\n",
    "University of Houston  \n",
    "plindner@uh.edu \n",
    "\n",
    "\n",
    "This tutorial is available at:\n",
    "http://130.211.184.150/hub/login\n"
   ]
  },
  {
   "cell_type": "markdown",
   "metadata": {},
   "source": [
    "## Computational Genomics with R\n",
    "\n",
    "Basis understanding of Genomic Data Analysis using R"
   ]
  },
  {
   "cell_type": "markdown",
   "metadata": {},
   "source": [
    "### Goals\n",
    "\n",
    "* If you are not familiar with R, you will get the basics of R and divide right in to specialized uses of R for computational genomics.\n",
    "* You will understand genomic intervals and operations on them, such as overlap\n",
    "* You will be able to use R and its vast package library to do sequence analysis: Such as calculating GC content for given segments of a genome or find transcription factor binding sites\n",
    "* You will be familiar with visualization techniques used in genomics, such as heatmaps,meta-gene plots and genomic track visualization\n",
    "* You will be familiar with supervised and unsupervised learning techniques which are important in data modelling and exploratory analysis of high-dimensional dat\n"
   ]
  },
  {
   "cell_type": "markdown",
   "metadata": {},
   "source": [
    "![](Images/DataAnalysis.png)"
   ]
  },
  {
   "cell_type": "markdown",
   "metadata": {},
   "source": [
    "## Some R Basics \n",
    "### Packages and functions"
   ]
  },
  {
   "cell_type": "code",
   "execution_count": null,
   "metadata": {},
   "outputs": [],
   "source": [
    "libray(MASS)\n",
    "ls(\"package:MASS\") # functions in the package\n",
    "ls() # objects in your R enviroment\n",
    "# get help on hist() function\n",
    "?hist\n",
    "help(\"hist\")\n",
    "# search the word \"hist\" in help pages\n",
    "help.search(\"hist\")\n",
    "??hist\n"
   ]
  },
  {
   "cell_type": "markdown",
   "metadata": {},
   "source": [
    "### Basic Computations in R"
   ]
  },
  {
   "cell_type": "code",
   "execution_count": null,
   "metadata": {},
   "outputs": [],
   "source": [
    "2 + 3 * 5       # Note the order of operations.\n",
    "log(10)        # Natural logarithm with base e\n",
    "5^2            # 5 raised to the second power\n",
    "3/2            # Division\n",
    "sqrt(16)      # Square root\n",
    "abs(3-7)      # Absolute value of 3-7\n",
    "pi             # The number\n",
    "exp(2)        # exponential function\n",
    "# This is a comment line"
   ]
  },
  {
   "cell_type": "markdown",
   "metadata": {},
   "source": [
    "### Data Structures\n",
    "#### Vectors"
   ]
  },
  {
   "cell_type": "code",
   "execution_count": null,
   "metadata": {},
   "outputs": [],
   "source": [
    "x <- c(1, 3, 2, 10, 5)  #create a vector x with 5 components\n",
    "x\n",
    "## [1]  1  3  2 10  5\n",
    "y <- 1:5  #create a vector of consecutive integers y\n",
    "y + 2  #scalar addition\n",
    "## [1] 3 4 5 6 7\n",
    "2 * y  #scalar multiplication\n",
    "## [1]  2  4  6  8 10\n",
    "y^2  #raise each component to the second power\n",
    "## [1]  1  4  9 16 25\n",
    "2^y  #raise 2 to the first through fifth power\n",
    "## [1]  2  4  8 16 32\n",
    "y  #y itself has not been unchanged\n",
    "## [1] 1 2 3 4 5\n",
    "y <- y * 2\n",
    "y  #it is now changed\n",
    "## [1]  2  4  6  8 10\n",
    "r1 <- rep(1, 3)  # create a vector of 1s, length 3\n",
    "length(r1)  #length of the vector\n",
    "## [1] 3\n",
    "class(r1)  # class of the vector\n",
    "## [1] \"numeric\"\n",
    "a <- 1  # this is actually a vector length one"
   ]
  },
  {
   "cell_type": "markdown",
   "metadata": {},
   "source": [
    "#### Matrix"
   ]
  },
  {
   "cell_type": "code",
   "execution_count": null,
   "metadata": {},
   "outputs": [],
   "source": [
    "x <- c(1, 2, 3, 4)\n",
    "y <- c(4, 5, 6, 7)\n",
    "m1 <- cbind(x, y)\n",
    "m1\n",
    "##      x y\n",
    "## [1,] 1 4\n",
    "## [2,] 2 5\n",
    "## [3,] 3 6\n",
    "## [4,] 4 7\n",
    "t(m1)  # transpose of m1\n",
    "##   [,1] [,2] [,3] [,4]\n",
    "## x    1    2    3    4\n",
    "## y    4    5    6    7\n",
    "dim(m1)  # 2 by 5 matrix\n",
    "## [1] 4 2"
   ]
  },
  {
   "cell_type": "markdown",
   "metadata": {},
   "source": [
    "#### Data Frames"
   ]
  },
  {
   "cell_type": "code",
   "execution_count": null,
   "metadata": {},
   "outputs": [],
   "source": [
    "chr <- c(\"chr1\", \"chr1\", \"chr2\", \"chr2\")\n",
    "strand <- c(\"-\",\"-\",\"+\",\"+\")\n",
    "start<- c(200,4000,100,400)\n",
    "end<-c(250,410,200,450)\n",
    "mydata <- data.frame(chr,start,end,strand)\n",
    "#change column names\n",
    "names(mydata) <- c(\"chr\",\"start\",\"end\",\"strand\")\n",
    "mydata # OR this will work too\n",
    "mydata <- data.frame(chr=chr,start=start,end=end,strand=strand)\n",
    "mydata"
   ]
  },
  {
   "cell_type": "markdown",
   "metadata": {},
   "source": [
    "#### Slicing and Dicing\n",
    "\n",
    "![](Images/slicingDataFrames.png)"
   ]
  },
  {
   "cell_type": "code",
   "execution_count": null,
   "metadata": {
    "scrolled": true
   },
   "outputs": [],
   "source": [
    "mydata[,2:4] # columns 2,3,4 of data frame\n",
    "mydata[,c(\"chr\",\"start\")] # columns chr and start from data frame\n",
    "mydata$start # variable start in the data frame\n",
    "mydata[c(1,3),] # get 1st and 3rd rows\n",
    "mydata[mydata$start>400,] # get all rows where start>400\n"
   ]
  },
  {
   "cell_type": "markdown",
   "metadata": {},
   "source": [
    "#### List"
   ]
  },
  {
   "cell_type": "code",
   "execution_count": null,
   "metadata": {},
   "outputs": [],
   "source": [
    "# example of a list with 4 components\n",
    "# a string, a numeric vector, a matrix, and a scalar\n",
    "w <- list(name=\"Fred\",\n",
    "       mynumbers=c(1,2,3),\n",
    "       mymatrix=matrix(1:4,ncol=2),\n",
    "       age=5.3)\n",
    "w"
   ]
  },
  {
   "cell_type": "code",
   "execution_count": null,
   "metadata": {},
   "outputs": [],
   "source": [
    "w[[3]] # 3rd component of the list\n",
    "w[[\"mynumbers\"]] # component named mynumbers in list\n",
    "w$age"
   ]
  },
  {
   "cell_type": "markdown",
   "metadata": {},
   "source": [
    "#### Factors"
   ]
  },
  {
   "cell_type": "code",
   "execution_count": null,
   "metadata": {},
   "outputs": [],
   "source": [
    "features=c(\"promoter\",\"exon\",\"intron\")\n",
    "f.feat=factor(features)"
   ]
  },
  {
   "cell_type": "markdown",
   "metadata": {},
   "source": [
    "### Data types\n",
    " * numeric\n",
    " * logical\n",
    " * character\n",
    " * integer"
   ]
  },
  {
   "cell_type": "code",
   "execution_count": null,
   "metadata": {},
   "outputs": [],
   "source": [
    "#create a numeric vector x with 5 components\n",
    "x<-c(1,3,2,10,5)\n",
    "x\n",
    "#create a logical vector x\n",
    "x<-c(TRUE,FALSE,TRUE)\n",
    "x\n",
    "# create a character vector\n",
    "x<-c(\"sds\",\"sd\",\"as\")\n",
    "x\n",
    "class(x)\n",
    "# create an integer vector\n",
    "x<-c(1L,2L,3L)\n",
    "x\n",
    "class(x)"
   ]
  },
  {
   "cell_type": "markdown",
   "metadata": {},
   "source": [
    "### Reading and Writing Data\n",
    "\n",
    "Most of the genomics data sets are in the form of genomic intervals associated with a score. That means mostly the data will be in table format with columns denoting chromosome, start positions, end positions, strand and score. One of the popular formats is BED format used primarily by UCSC genome browser but most other genome browsers and tools will support BED format. We have all the annotation data in BED format. In R, you can easily read tabular format data with read.table() function."
   ]
  },
  {
   "cell_type": "code",
   "execution_count": null,
   "metadata": {},
   "outputs": [],
   "source": [
    "enh.df <- read.table(\"data/subset.enhancers.hg18.bed\", header = FALSE)  # read enhancer marker BED file\n",
    "cpgi.df <- read.table(\"data/subset.cpgi.hg18.bed\", header = FALSE) # read CpG island BED file\n",
    "# check first lines to see how the data looks like\n",
    "head(enh.df)\n",
    "head(cpgi.df)"
   ]
  },
  {
   "cell_type": "code",
   "execution_count": null,
   "metadata": {},
   "outputs": [],
   "source": [
    "write.table(cpgi.df,file=\"cpgi.txt\",quote=FALSE,\n",
    "            row.names=FALSE,col.names=FALSE,sep=\"\\t\")"
   ]
  },
  {
   "cell_type": "code",
   "execution_count": null,
   "metadata": {},
   "outputs": [],
   "source": [
    "save(cpgi.df,enh.df,file=\"mydata.RData\")\n",
    "load(\"mydata.RData\")\n",
    "# saveRDS() can save one object at a type\n",
    "saveRDS(cpgi.df,file=\"cpgi.rds\")\n",
    "x=readRDS(\"cpgi.rds\")\n",
    "head(x)"
   ]
  },
  {
   "cell_type": "markdown",
   "metadata": {},
   "source": [
    "One important thing is that with save() you can save many objects at a time and when they are loaded into memory with load() they retain their variable names. For example, in the above code when you use load(\"mydata.RData\") in a fresh R session, an object names “cpg.df” will be created. That means you have to figure out what name you gave it to the objects before saving them. On the contrary to that, when you save an object by saveRDS() and read by readRDS() the name of the object is not retained, you need to assign the output of readRDS() to a new variable (“x” in the above code chunk)."
   ]
  },
  {
   "cell_type": "markdown",
   "metadata": {},
   "source": [
    "### Plotting in R\n",
    "Let us sample 50 values from normal distribution and do some plots."
   ]
  },
  {
   "cell_type": "code",
   "execution_count": null,
   "metadata": {},
   "outputs": [],
   "source": [
    "# setting figure size in notebook\n",
    "options(repr.plot.width = 4, repr.plot.height = 4)\n",
    "# sample 50 values from normal distribution\n",
    "# and store them in vector x\n",
    "x<-rnorm(50)\n",
    "hist(x) # plot the histogram of those values"
   ]
  },
  {
   "cell_type": "code",
   "execution_count": null,
   "metadata": {},
   "outputs": [],
   "source": [
    "#let's add a title and change the color\n",
    "hist(x,main=\"Hello histogram!!!\",col=\"red\")"
   ]
  },
  {
   "cell_type": "markdown",
   "metadata": {},
   "source": [
    "#### Scatterplot"
   ]
  },
  {
   "cell_type": "code",
   "execution_count": null,
   "metadata": {},
   "outputs": [],
   "source": [
    "# randomly sample 50 points from normal distribution\n",
    "y<-rnorm(50)\n",
    "#plot a scatter plot\n",
    "# control x-axis and y-axis labels\n",
    "plot(x,y,main=\"scatterplot of random samples\",\n",
    "        ylab=\"y values\",xlab=\"x values\")"
   ]
  },
  {
   "cell_type": "markdown",
   "metadata": {},
   "source": [
    "#### Boxplot\n",
    "\n",
    "lowerWhisker=Q1-1.5[IQR] and upperWhisker=Q1+1.5*[IQR]\n",
    "\n",
    "In addition, outliers can be depicted as dots. In this case, outliers are the values that remain outside the whiskers."
   ]
  },
  {
   "cell_type": "code",
   "execution_count": null,
   "metadata": {},
   "outputs": [],
   "source": [
    " boxplot(x,y,main=\"boxplots of random samples\")"
   ]
  },
  {
   "cell_type": "markdown",
   "metadata": {},
   "source": [
    "#### Barplot"
   ]
  },
  {
   "cell_type": "code",
   "execution_count": null,
   "metadata": {},
   "outputs": [],
   "source": [
    "perc=c(50,70,35,25)\n",
    "barplot(height=perc,names.arg=c(\"CpGi\",\"exon\",\"CpGi\",\"exon\"),\n",
    "        ylab=\"percentages\",main=\"imagine %s\",\n",
    "        col=c(\"red\",\"red\",\"blue\",\"blue\"))\n",
    "legend(\"topright\",legend=c(\"test\",\"control\"),fill=c(\"red\",\"blue\"))"
   ]
  },
  {
   "cell_type": "markdown",
   "metadata": {},
   "source": [
    " ## Saving plots\n",
    " If you want to save your plots to an image file there are couple of ways of doing that. Normally, you will have to do the following:\n",
    " 1. Open a graphics device\n",
    " 2. Create the plot\n",
    " 3. Close the graphics device"
   ]
  },
  {
   "cell_type": "code",
   "execution_count": null,
   "metadata": {},
   "outputs": [],
   "source": [
    "pdf(\"myplot.pdf\",width=5,height=5)\n",
    "plot(x,y)\n",
    "dev.off()\n",
    "\n",
    " #Alternatively, you can first create the plot then copy the plot to a graphic device.\n",
    "\n",
    "plot(x,y)\n",
    "dev.copy(pdf,\"myplot.pdf\",width=7,height=5)\n",
    "dev.off()"
   ]
  },
  {
   "cell_type": "markdown",
   "metadata": {},
   "source": [
    "## Operations on Genomic Intervals\n",
    "### GenomicRanges package"
   ]
  },
  {
   "cell_type": "markdown",
   "metadata": {},
   "source": [
    "\n",
    "[Bioconductor](http://bioconductor.org) project has a dedicated package called **GenomicRanges** to deal with genomic intervals. In this section, we will provide use cases involving operations on genomic intervals. The main reason we will stick to this package is that it provides tools to do overlap operations. However package requires that users operate on specific data types that are conceptually similar to a tabular data structure implemented in a way that makes overlapping and related operations easier. The main object we will be using is called GRanges object and we will also see some other related objects from the GenomicRanges package.\n",
    "\n",
    "#### How to create and manipulate a GRanges object"
   ]
  },
  {
   "cell_type": "code",
   "execution_count": null,
   "metadata": {},
   "outputs": [],
   "source": [
    "library(GenomicRanges)\n",
    "gr=GRanges(seqnames=c(\"chr1\",\"chr2\",\"chr2\"),\n",
    "           ranges=IRanges(start=c(50,150,200),end=c(100,200,300)),\n",
    "           strand=c(\"+\",\"-\",\"-\")\n",
    ")\n",
    "gr"
   ]
  },
  {
   "cell_type": "code",
   "execution_count": null,
   "metadata": {},
   "outputs": [],
   "source": [
    "# subset like a data frame\n",
    "gr[1:2,]"
   ]
  },
  {
   "cell_type": "code",
   "execution_count": null,
   "metadata": {},
   "outputs": [],
   "source": [
    "gr=GRanges(seqnames=c(\"chr1\",\"chr2\",\"chr2\"),\n",
    "           ranges=IRanges(start=c(50,150,200),end=c(100,200,300)),\n",
    "           names=c(\"id1\",\"id3\",\"id2\"),\n",
    "           scores=c(100,90,50)\n",
    ")\n",
    "# or add it later (replaces the existing meta data)\n",
    "mcols(gr)=DataFrame(name2=c(\"pax6\",\"meis1\",\"zic4\"),\n",
    "                    score2=c(1,2,3))\n",
    "\n",
    "gr=GRanges(seqnames=c(\"chr1\",\"chr2\",\"chr2\"),\n",
    "           ranges=IRanges(start=c(50,150,200),end=c(100,200,300)),\n",
    "           names=c(\"id1\",\"id3\",\"id2\"),\n",
    "           scores=c(100,90,50)\n",
    ")\n",
    "\n",
    "# or appends to existing meta data\n",
    "mcols(gr)=cbind(mcols(gr),\n",
    "                          DataFrame(name2=c(\"pax6\",\"meis1\",\"zic4\")) )\n",
    "gr"
   ]
  },
  {
   "cell_type": "code",
   "execution_count": null,
   "metadata": {},
   "outputs": [],
   "source": [
    "# elementMetadata() and values() do the same things\n",
    "elementMetadata(gr)"
   ]
  },
  {
   "cell_type": "code",
   "execution_count": null,
   "metadata": {},
   "outputs": [],
   "source": [
    "values(gr)"
   ]
  },
  {
   "cell_type": "markdown",
   "metadata": {},
   "source": [
    "#### Getting genomic regions into R as GRanges objects\n",
    "\n",
    "There are multiple ways you can read in your genomic features into R and create a GRanges object. Most genomic interval data comes as a tabular format that has the basic information about the location of the interval and some other information. We already showed how to read BED files as data frame. Now we will show how to convert it to GRanges object."
   ]
  },
  {
   "cell_type": "code",
   "execution_count": null,
   "metadata": {},
   "outputs": [],
   "source": [
    "# read CpGi data set\n",
    "cpgi.df = read.table(\"data/cpgi.hg19.chr21.bed\", header = FALSE,\n",
    "                     stringsAsFactors=FALSE) \n",
    "# remove chr names with \"_\"\n",
    "cpgi.df =cpgi.df [grep(\"_\",cpgi.df[,1],invert=TRUE),]\n",
    "\n",
    "cpgi.gr=GRanges(seqnames=cpgi.df[,1],\n",
    "                ranges=IRanges(start=cpgi.df[,2],\n",
    "                              end=cpgi.df[,3]))\n",
    "\n",
    "cpgi.gr"
   ]
  },
  {
   "cell_type": "markdown",
   "metadata": {},
   "source": [
    "Sometimes pre-processing is necessary"
   ]
  },
  {
   "cell_type": "code",
   "execution_count": null,
   "metadata": {},
   "outputs": [],
   "source": [
    "# read refseq file\n",
    "ref.df = read.table(\"data/refseq.hg19.chr21.bed\", header = FALSE,\n",
    "                     stringsAsFactors=FALSE) \n",
    "ref.gr=GRanges(seqnames=ref.df[,1],\n",
    "               ranges=IRanges(start=ref.df[,2],\n",
    "                              end=ref.df[,3]),\n",
    "               strand=ref.df[,6],name=ref.df[,4])\n",
    "# get TSS\n",
    "tss.gr=ref.gr\n",
    "# end of the + strand genes must be equalized to start pos\n",
    "end(tss.gr[strand(tss.gr)==\"+\",])  =start(tss.gr[strand(tss.gr)==\"+\",])\n",
    "# startof the - strand genes must be equalized to end pos\n",
    "start(tss.gr[strand(tss.gr)==\"-\",])=end(tss.gr[strand(tss.gr)==\"-\",])\n",
    "# remove duplicated TSSes ie alternative transcripts\n",
    "# this keeps the first instance and removes duplicates\n",
    "tss.gr=tss.gr[!duplicated(tss.gr),]"
   ]
  },
  {
   "cell_type": "markdown",
   "metadata": {},
   "source": [
    "Reading the genomic features as text files and converting to GRanges is not the only way to create GRanges object. With the help of rtracklayer package we can directly import."
   ]
  },
  {
   "cell_type": "code",
   "execution_count": null,
   "metadata": {},
   "outputs": [],
   "source": [
    "library(rtracklayer)\n",
    "import.bed(\"data/refseq.hg19.chr21.bed\")"
   ]
  },
  {
   "cell_type": "markdown",
   "metadata": {},
   "source": [
    "Now we will show how to use other packages to automatically obtain the data in GRanges format. But you will not be able to use these methods for every data set so it is good to now how to read data from flat files as well. First, we will use rtracklayer package to download data from UCSC browser. We will download CpG islands as GRanges objects."
   ]
  },
  {
   "cell_type": "code",
   "execution_count": null,
   "metadata": {},
   "outputs": [],
   "source": [
    "library(rtracklayer)\n",
    "session <- browserSession()\n",
    "genome(session) <- \"mm9\"\n",
    "## choose CpG island track on chr12\n",
    "query <- ucscTableQuery(session, track=\"CpG Islands\",table=\"cpgIslandExt\",\n",
    "        range=GRangesForUCSCGenome(\"mm9\", \"chr12\"))\n",
    "## get the GRanges object for the track\n",
    "track(query)"
   ]
  },
  {
   "cell_type": "code",
   "execution_count": null,
   "metadata": {},
   "outputs": [],
   "source": [
    "Next, we will show how to use GenomicFeatures package.\n",
    "<<genomicFeaturesImport>>=\n",
    "# using GenomicFeatures to import genomic features\n",
    "\n",
    "@\n",
    "## Finding regions that (does/does not) overlap with another set of regions\n",
    "\n",
    "This is one of the most common tasks in genomics. Usually, you have a set of regions that you are interested in and you want to see if they overlap with another set of regions or see how many of them overlap. A good example is transcription factor binding sites determined by ChIP-seq experiments. In these types of experiments and followed analysis, one usually ends up with genomic regions that are enriched in bound transcription factors (sites of transcription factor binding) and the\n",
    "\n",
    "subsetByOverlaps\n",
    "\n",
    "<<subsetByOverlaps>>=\n",
    "\n",
    "countOverlaps\n",
    "\n",
    "<<countOverlaps>>=\n",
    "\n",
    "findOverlaps and its uses\n",
    "\n",
    "<<findOverlaps>>=\n",
    "\n",
    "find nearest\n",
    "\n",
    "<<findNearest>>=\n",
    "\n",
    "## Finding coverage of intervals over the genome\n",
    "find cannonical binding sites\n",
    "\n",
    "<<findCanonical>>=\n",
    "\n",
    "find coverage of biding sites on promoters\n",
    "\n",
    "<<cannonicalCoverage>>=\n",
    "\n",
    "sdsd"
   ]
  },
  {
   "cell_type": "code",
   "execution_count": null,
   "metadata": {},
   "outputs": [],
   "source": []
  },
  {
   "cell_type": "markdown",
   "metadata": {},
   "source": [
    "First plot ..."
   ]
  },
  {
   "cell_type": "markdown",
   "metadata": {},
   "source": [
    "You might notice that could have used simplify to combine multiple edges by summing their weights with a command like  simplify(net, edge.attr.comb=list(Weight=\"sum\",\"ignore\")). The problem is that this would also combine multiple edge types (in our data: “hyperlinks” and “mentions”).\n",
    "\n",
    "Let’s and reduce the arrow size and remove the labels (we do that by setting them to NA):"
   ]
  },
  {
   "cell_type": "markdown",
   "metadata": {},
   "source": [
    "Tutorial based on input from:\n",
    "\n",
    "https://al2na.github.io/compgenr/"
   ]
  },
  {
   "cell_type": "code",
   "execution_count": null,
   "metadata": {},
   "outputs": [],
   "source": []
  }
 ],
 "metadata": {
  "kernelspec": {
   "display_name": "R",
   "language": "R",
   "name": "ir"
  },
  "language_info": {
   "codemirror_mode": "r",
   "file_extension": ".r",
   "mimetype": "text/x-r-source",
   "name": "R",
   "pygments_lexer": "r",
   "version": "3.5.0"
  }
 },
 "nbformat": 4,
 "nbformat_minor": 2
}
